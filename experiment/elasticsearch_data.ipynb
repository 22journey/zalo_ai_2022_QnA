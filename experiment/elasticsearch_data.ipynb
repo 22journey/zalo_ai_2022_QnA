{
 "cells": [
  {
   "cell_type": "code",
   "execution_count": 1,
   "id": "ee539e96",
   "metadata": {},
   "outputs": [
    {
     "name": "stderr",
     "output_type": "stream",
     "text": [
      "  4%|▍         | 56843/1273469 [00:13<04:45, 4261.95it/s] \n"
     ]
    },
    {
     "ename": "KeyboardInterrupt",
     "evalue": "",
     "output_type": "error",
     "traceback": [
      "\u001b[0;31m---------------------------------------------------------------------------\u001b[0m",
      "\u001b[0;31mKeyboardInterrupt\u001b[0m                         Traceback (most recent call last)",
      "Cell \u001b[0;32mIn [1], line 22\u001b[0m\n\u001b[1;32m     14\u001b[0m         l \u001b[39m=\u001b[39m f\u001b[39m.\u001b[39mreadline()\n\u001b[1;32m     15\u001b[0m         o \u001b[39m=\u001b[39m {\n\u001b[1;32m     16\u001b[0m             \u001b[39m\"\u001b[39m\u001b[39m_index\u001b[39m\u001b[39m\"\u001b[39m: index,\n\u001b[1;32m     17\u001b[0m             \u001b[39m\"\u001b[39m\u001b[39m_type\u001b[39m\u001b[39m\"\u001b[39m: \u001b[39m\"\u001b[39m\u001b[39m_doc\u001b[39m\u001b[39m\"\u001b[39m,\n\u001b[0;32m   (...)\u001b[0m\n\u001b[1;32m     20\u001b[0m             \u001b[39m\"\u001b[39m\u001b[39m_source\u001b[39m\u001b[39m\"\u001b[39m: json\u001b[39m.\u001b[39mloads(l),\n\u001b[1;32m     21\u001b[0m         }\n\u001b[0;32m---> 22\u001b[0m         out\u001b[39m.\u001b[39;49mwrite(json\u001b[39m.\u001b[39;49mdumps(o, ensure_ascii\u001b[39m=\u001b[39;49m\u001b[39mFalse\u001b[39;49;00m))\n\u001b[1;32m     23\u001b[0m         out\u001b[39m.\u001b[39mwrite(\u001b[39m\"\u001b[39m\u001b[39m\\n\u001b[39;00m\u001b[39m\"\u001b[39m)\n\u001b[1;32m     25\u001b[0m out\u001b[39m.\u001b[39mclose()\n",
      "File \u001b[0;32m~/miniconda3/envs/pt_py3.8/lib/python3.8/codecs.py:721\u001b[0m, in \u001b[0;36mStreamReaderWriter.write\u001b[0;34m(self, data)\u001b[0m\n\u001b[1;32m    719\u001b[0m \u001b[39mdef\u001b[39;00m \u001b[39mwrite\u001b[39m(\u001b[39mself\u001b[39m, data):\n\u001b[0;32m--> 721\u001b[0m     \u001b[39mreturn\u001b[39;00m \u001b[39mself\u001b[39;49m\u001b[39m.\u001b[39;49mwriter\u001b[39m.\u001b[39;49mwrite(data)\n",
      "File \u001b[0;32m~/miniconda3/envs/pt_py3.8/lib/python3.8/codecs.py:378\u001b[0m, in \u001b[0;36mStreamWriter.write\u001b[0;34m(self, object)\u001b[0m\n\u001b[1;32m    375\u001b[0m \u001b[39m\"\"\" Writes the object's contents encoded to self.stream.\u001b[39;00m\n\u001b[1;32m    376\u001b[0m \u001b[39m\"\"\"\u001b[39;00m\n\u001b[1;32m    377\u001b[0m data, consumed \u001b[39m=\u001b[39m \u001b[39mself\u001b[39m\u001b[39m.\u001b[39mencode(\u001b[39mobject\u001b[39m, \u001b[39mself\u001b[39m\u001b[39m.\u001b[39merrors)\n\u001b[0;32m--> 378\u001b[0m \u001b[39mself\u001b[39;49m\u001b[39m.\u001b[39;49mstream\u001b[39m.\u001b[39;49mwrite(data)\n",
      "\u001b[0;31mKeyboardInterrupt\u001b[0m: "
     ]
    }
   ],
   "source": [
    "# context data\n",
    "\n",
    "inp_file = \"../data/wikipedia_20220620_cleaned/wikipedia_20220620_cleaned.jsonl\"\n",
    "out_file = \"../data/wikipedia_20220620_cleaned/wikipedia_20220620_els_dump.jsonl\"\n",
    "index = \"wikipedia_20220620\"\n",
    "\n",
    "import codecs\n",
    "import json\n",
    "import uuid\n",
    "import tqdm\n",
    "\n",
    "out = codecs.open(out_file, \"w\", \"utf-8\") \n",
    "\n",
    "with open(inp_file, \"r\") as f:\n",
    "    for _ in tqdm.tqdm(range(1273469)):\n",
    "        l = f.readline()\n",
    "        o = {\n",
    "            \"_index\": index,\n",
    "            \"_type\": \"_doc\",\n",
    "            \"_id\": str(uuid.uuid1()),\n",
    "            \"_score\": 1,\n",
    "            \"_source\": json.loads(l),\n",
    "        }\n",
    "        out.write(json.dumps(o, ensure_ascii=False))\n",
    "        out.write(\"\\n\")\n",
    "        \n",
    "out.close()"
   ]
  },
  {
   "cell_type": "code",
   "execution_count": 3,
   "id": "2b886f4a",
   "metadata": {},
   "outputs": [
    {
     "name": "stderr",
     "output_type": "stream",
     "text": [
      "100%|██████████| 1273468/1273468 [00:58<00:00, 21783.92it/s]\n"
     ]
    }
   ],
   "source": [
    "# title data\n",
    "inp_file = \"../data/wikipedia_20220620_cleaned/wikipedia_20220620_all_titles.txt\"\n",
    "out_file = \"../data/wikipedia_20220620_cleaned/wikipedia_20220620_all_titles_els_dump.jsonl\"\n",
    "index = \"wikipedia_20220620_titles\"\n",
    "\n",
    "import codecs\n",
    "import json\n",
    "import uuid\n",
    "import tqdm\n",
    "\n",
    "out = codecs.open(out_file, \"w\", \"utf-8\") \n",
    "\n",
    "with open(inp_file, \"r\") as f:\n",
    "    for _ in tqdm.tqdm(range(1273468)):\n",
    "        l = f.readline().strip()\n",
    "        if not l:\n",
    "            continue\n",
    "        o = {\n",
    "            \"_index\": index,\n",
    "            \"_type\": \"_doc\",\n",
    "            \"_id\": str(uuid.uuid1()),\n",
    "            \"_score\": 1,\n",
    "            \"_source\": {\n",
    "                \"title\": l,\n",
    "            },\n",
    "        }\n",
    "        out.write(json.dumps(o, ensure_ascii=False))\n",
    "        out.write(\"\\n\")\n",
    "        \n",
    "out.close()"
   ]
  }
 ],
 "metadata": {
  "kernelspec": {
   "display_name": "Python 3.8.15 ('pt_py3.8')",
   "language": "python",
   "name": "python3"
  },
  "language_info": {
   "codemirror_mode": {
    "name": "ipython",
    "version": 3
   },
   "file_extension": ".py",
   "mimetype": "text/x-python",
   "name": "python",
   "nbconvert_exporter": "python",
   "pygments_lexer": "ipython3",
   "version": "3.8.15"
  },
  "vscode": {
   "interpreter": {
    "hash": "7b5c5cac8dc8d37482e4a7f044d901a86d8bd0dbdfe4e132d452e0bc3fa49c32"
   }
  }
 },
 "nbformat": 4,
 "nbformat_minor": 5
}
